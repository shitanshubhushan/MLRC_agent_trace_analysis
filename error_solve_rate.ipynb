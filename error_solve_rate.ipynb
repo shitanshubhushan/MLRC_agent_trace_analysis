{
 "cells": [
  {
   "cell_type": "markdown",
   "metadata": {},
   "source": [
    "#### Which type of error takes more time for the agent to solve? \\\n",
    "#### For each type of error, report the solve rate and avg time/steps spent to solve each error"
   ]
  },
  {
   "cell_type": "markdown",
   "metadata": {},
   "source": []
  }
 ],
 "metadata": {
  "language_info": {
   "name": "python"
  }
 },
 "nbformat": 4,
 "nbformat_minor": 2
}
